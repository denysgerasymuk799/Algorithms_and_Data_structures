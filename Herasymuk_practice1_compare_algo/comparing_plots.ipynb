{
 "cells": [
  {
   "cell_type": "code",
   "execution_count": 28,
   "metadata": {
    "collapsed": true
   },
   "outputs": [
    {
     "ename": "ModuleNotFoundError",
     "evalue": "No module named 'matplotlib'",
     "output_type": "error",
     "traceback": [
      "\u001B[1;31m---------------------------------------------------------------------------\u001B[0m",
      "\u001B[1;31mModuleNotFoundError\u001B[0m                       Traceback (most recent call last)",
      "\u001B[1;32m<ipython-input-28-11f9706141db>\u001B[0m in \u001B[0;36m<module>\u001B[1;34m\u001B[0m\n\u001B[1;32m----> 1\u001B[1;33m \u001B[0mget_ipython\u001B[0m\u001B[1;33m(\u001B[0m\u001B[1;33m)\u001B[0m\u001B[1;33m.\u001B[0m\u001B[0mrun_line_magic\u001B[0m\u001B[1;33m(\u001B[0m\u001B[1;34m'matplotlib'\u001B[0m\u001B[1;33m,\u001B[0m \u001B[1;34m'inline'\u001B[0m\u001B[1;33m)\u001B[0m\u001B[1;33m\u001B[0m\u001B[1;33m\u001B[0m\u001B[0m\n\u001B[0m\u001B[0;32m      2\u001B[0m \u001B[1;33m\u001B[0m\u001B[0m\n\u001B[0;32m      3\u001B[0m \u001B[1;32mimport\u001B[0m \u001B[0mjson\u001B[0m\u001B[1;33m\u001B[0m\u001B[1;33m\u001B[0m\u001B[0m\n\u001B[0;32m      4\u001B[0m \u001B[1;32mimport\u001B[0m \u001B[0mmath\u001B[0m\u001B[1;33m\u001B[0m\u001B[1;33m\u001B[0m\u001B[0m\n\u001B[0;32m      5\u001B[0m \u001B[1;32mimport\u001B[0m \u001B[0mplotly\u001B[0m\u001B[1;33m.\u001B[0m\u001B[0mgraph_objects\u001B[0m \u001B[1;32mas\u001B[0m \u001B[0mgo\u001B[0m\u001B[1;33m\u001B[0m\u001B[1;33m\u001B[0m\u001B[0m\n",
      "\u001B[1;32md:\\python\\envs\\harmix_chat_bot\\lib\\site-packages\\IPython\\core\\interactiveshell.py\u001B[0m in \u001B[0;36mrun_line_magic\u001B[1;34m(self, magic_name, line, _stack_depth)\u001B[0m\n\u001B[0;32m   2324\u001B[0m                 \u001B[0mkwargs\u001B[0m\u001B[1;33m[\u001B[0m\u001B[1;34m'local_ns'\u001B[0m\u001B[1;33m]\u001B[0m \u001B[1;33m=\u001B[0m \u001B[0mself\u001B[0m\u001B[1;33m.\u001B[0m\u001B[0mget_local_scope\u001B[0m\u001B[1;33m(\u001B[0m\u001B[0mstack_depth\u001B[0m\u001B[1;33m)\u001B[0m\u001B[1;33m\u001B[0m\u001B[1;33m\u001B[0m\u001B[0m\n\u001B[0;32m   2325\u001B[0m             \u001B[1;32mwith\u001B[0m \u001B[0mself\u001B[0m\u001B[1;33m.\u001B[0m\u001B[0mbuiltin_trap\u001B[0m\u001B[1;33m:\u001B[0m\u001B[1;33m\u001B[0m\u001B[1;33m\u001B[0m\u001B[0m\n\u001B[1;32m-> 2326\u001B[1;33m                 \u001B[0mresult\u001B[0m \u001B[1;33m=\u001B[0m \u001B[0mfn\u001B[0m\u001B[1;33m(\u001B[0m\u001B[1;33m*\u001B[0m\u001B[0margs\u001B[0m\u001B[1;33m,\u001B[0m \u001B[1;33m**\u001B[0m\u001B[0mkwargs\u001B[0m\u001B[1;33m)\u001B[0m\u001B[1;33m\u001B[0m\u001B[1;33m\u001B[0m\u001B[0m\n\u001B[0m\u001B[0;32m   2327\u001B[0m             \u001B[1;32mreturn\u001B[0m \u001B[0mresult\u001B[0m\u001B[1;33m\u001B[0m\u001B[1;33m\u001B[0m\u001B[0m\n\u001B[0;32m   2328\u001B[0m \u001B[1;33m\u001B[0m\u001B[0m\n",
      "\u001B[1;32m<decorator-gen-102>\u001B[0m in \u001B[0;36mmatplotlib\u001B[1;34m(self, line)\u001B[0m\n",
      "\u001B[1;32md:\\python\\envs\\harmix_chat_bot\\lib\\site-packages\\IPython\\core\\magic.py\u001B[0m in \u001B[0;36m<lambda>\u001B[1;34m(f, *a, **k)\u001B[0m\n\u001B[0;32m    185\u001B[0m     \u001B[1;31m# but it's overkill for just that one bit of state.\u001B[0m\u001B[1;33m\u001B[0m\u001B[1;33m\u001B[0m\u001B[1;33m\u001B[0m\u001B[0m\n\u001B[0;32m    186\u001B[0m     \u001B[1;32mdef\u001B[0m \u001B[0mmagic_deco\u001B[0m\u001B[1;33m(\u001B[0m\u001B[0marg\u001B[0m\u001B[1;33m)\u001B[0m\u001B[1;33m:\u001B[0m\u001B[1;33m\u001B[0m\u001B[1;33m\u001B[0m\u001B[0m\n\u001B[1;32m--> 187\u001B[1;33m         \u001B[0mcall\u001B[0m \u001B[1;33m=\u001B[0m \u001B[1;32mlambda\u001B[0m \u001B[0mf\u001B[0m\u001B[1;33m,\u001B[0m \u001B[1;33m*\u001B[0m\u001B[0ma\u001B[0m\u001B[1;33m,\u001B[0m \u001B[1;33m**\u001B[0m\u001B[0mk\u001B[0m\u001B[1;33m:\u001B[0m \u001B[0mf\u001B[0m\u001B[1;33m(\u001B[0m\u001B[1;33m*\u001B[0m\u001B[0ma\u001B[0m\u001B[1;33m,\u001B[0m \u001B[1;33m**\u001B[0m\u001B[0mk\u001B[0m\u001B[1;33m)\u001B[0m\u001B[1;33m\u001B[0m\u001B[1;33m\u001B[0m\u001B[0m\n\u001B[0m\u001B[0;32m    188\u001B[0m \u001B[1;33m\u001B[0m\u001B[0m\n\u001B[0;32m    189\u001B[0m         \u001B[1;32mif\u001B[0m \u001B[0mcallable\u001B[0m\u001B[1;33m(\u001B[0m\u001B[0marg\u001B[0m\u001B[1;33m)\u001B[0m\u001B[1;33m:\u001B[0m\u001B[1;33m\u001B[0m\u001B[1;33m\u001B[0m\u001B[0m\n",
      "\u001B[1;32md:\\python\\envs\\harmix_chat_bot\\lib\\site-packages\\IPython\\core\\magics\\pylab.py\u001B[0m in \u001B[0;36mmatplotlib\u001B[1;34m(self, line)\u001B[0m\n\u001B[0;32m     97\u001B[0m             \u001B[0mprint\u001B[0m\u001B[1;33m(\u001B[0m\u001B[1;34m\"Available matplotlib backends: %s\"\u001B[0m \u001B[1;33m%\u001B[0m \u001B[0mbackends_list\u001B[0m\u001B[1;33m)\u001B[0m\u001B[1;33m\u001B[0m\u001B[1;33m\u001B[0m\u001B[0m\n\u001B[0;32m     98\u001B[0m         \u001B[1;32melse\u001B[0m\u001B[1;33m:\u001B[0m\u001B[1;33m\u001B[0m\u001B[1;33m\u001B[0m\u001B[0m\n\u001B[1;32m---> 99\u001B[1;33m             \u001B[0mgui\u001B[0m\u001B[1;33m,\u001B[0m \u001B[0mbackend\u001B[0m \u001B[1;33m=\u001B[0m \u001B[0mself\u001B[0m\u001B[1;33m.\u001B[0m\u001B[0mshell\u001B[0m\u001B[1;33m.\u001B[0m\u001B[0menable_matplotlib\u001B[0m\u001B[1;33m(\u001B[0m\u001B[0margs\u001B[0m\u001B[1;33m.\u001B[0m\u001B[0mgui\u001B[0m\u001B[1;33m.\u001B[0m\u001B[0mlower\u001B[0m\u001B[1;33m(\u001B[0m\u001B[1;33m)\u001B[0m \u001B[1;32mif\u001B[0m \u001B[0misinstance\u001B[0m\u001B[1;33m(\u001B[0m\u001B[0margs\u001B[0m\u001B[1;33m.\u001B[0m\u001B[0mgui\u001B[0m\u001B[1;33m,\u001B[0m \u001B[0mstr\u001B[0m\u001B[1;33m)\u001B[0m \u001B[1;32melse\u001B[0m \u001B[0margs\u001B[0m\u001B[1;33m.\u001B[0m\u001B[0mgui\u001B[0m\u001B[1;33m)\u001B[0m\u001B[1;33m\u001B[0m\u001B[1;33m\u001B[0m\u001B[0m\n\u001B[0m\u001B[0;32m    100\u001B[0m             \u001B[0mself\u001B[0m\u001B[1;33m.\u001B[0m\u001B[0m_show_matplotlib_backend\u001B[0m\u001B[1;33m(\u001B[0m\u001B[0margs\u001B[0m\u001B[1;33m.\u001B[0m\u001B[0mgui\u001B[0m\u001B[1;33m,\u001B[0m \u001B[0mbackend\u001B[0m\u001B[1;33m)\u001B[0m\u001B[1;33m\u001B[0m\u001B[1;33m\u001B[0m\u001B[0m\n\u001B[0;32m    101\u001B[0m \u001B[1;33m\u001B[0m\u001B[0m\n",
      "\u001B[1;32md:\\python\\envs\\harmix_chat_bot\\lib\\site-packages\\IPython\\core\\interactiveshell.py\u001B[0m in \u001B[0;36menable_matplotlib\u001B[1;34m(self, gui)\u001B[0m\n\u001B[0;32m   3491\u001B[0m         \"\"\"\n\u001B[0;32m   3492\u001B[0m         \u001B[1;32mfrom\u001B[0m \u001B[0mIPython\u001B[0m\u001B[1;33m.\u001B[0m\u001B[0mcore\u001B[0m \u001B[1;32mimport\u001B[0m \u001B[0mpylabtools\u001B[0m \u001B[1;32mas\u001B[0m \u001B[0mpt\u001B[0m\u001B[1;33m\u001B[0m\u001B[1;33m\u001B[0m\u001B[0m\n\u001B[1;32m-> 3493\u001B[1;33m         \u001B[0mgui\u001B[0m\u001B[1;33m,\u001B[0m \u001B[0mbackend\u001B[0m \u001B[1;33m=\u001B[0m \u001B[0mpt\u001B[0m\u001B[1;33m.\u001B[0m\u001B[0mfind_gui_and_backend\u001B[0m\u001B[1;33m(\u001B[0m\u001B[0mgui\u001B[0m\u001B[1;33m,\u001B[0m \u001B[0mself\u001B[0m\u001B[1;33m.\u001B[0m\u001B[0mpylab_gui_select\u001B[0m\u001B[1;33m)\u001B[0m\u001B[1;33m\u001B[0m\u001B[1;33m\u001B[0m\u001B[0m\n\u001B[0m\u001B[0;32m   3494\u001B[0m \u001B[1;33m\u001B[0m\u001B[0m\n\u001B[0;32m   3495\u001B[0m         \u001B[1;32mif\u001B[0m \u001B[0mgui\u001B[0m \u001B[1;33m!=\u001B[0m \u001B[1;34m'inline'\u001B[0m\u001B[1;33m:\u001B[0m\u001B[1;33m\u001B[0m\u001B[1;33m\u001B[0m\u001B[0m\n",
      "\u001B[1;32md:\\python\\envs\\harmix_chat_bot\\lib\\site-packages\\IPython\\core\\pylabtools.py\u001B[0m in \u001B[0;36mfind_gui_and_backend\u001B[1;34m(gui, gui_select)\u001B[0m\n\u001B[0;32m    278\u001B[0m     \"\"\"\n\u001B[0;32m    279\u001B[0m \u001B[1;33m\u001B[0m\u001B[0m\n\u001B[1;32m--> 280\u001B[1;33m     \u001B[1;32mimport\u001B[0m \u001B[0mmatplotlib\u001B[0m\u001B[1;33m\u001B[0m\u001B[1;33m\u001B[0m\u001B[0m\n\u001B[0m\u001B[0;32m    281\u001B[0m \u001B[1;33m\u001B[0m\u001B[0m\n\u001B[0;32m    282\u001B[0m     \u001B[1;32mif\u001B[0m \u001B[0mgui\u001B[0m \u001B[1;32mand\u001B[0m \u001B[0mgui\u001B[0m \u001B[1;33m!=\u001B[0m \u001B[1;34m'auto'\u001B[0m\u001B[1;33m:\u001B[0m\u001B[1;33m\u001B[0m\u001B[1;33m\u001B[0m\u001B[0m\n",
      "\u001B[1;31mModuleNotFoundError\u001B[0m: No module named 'matplotlib'"
     ]
    }
   ],
   "source": [
    "import json\n",
    "import math\n",
    "import plotly.graph_objects as go\n",
    "import pandas as pd"
   ]
  },
  {
   "cell_type": "code",
   "execution_count": null,
   "outputs": [],
   "source": [
    "with open(\"algorithms_data.json\", \"r\", encoding=\"utf-8\") as f:\n",
    "    experiments_data_dict = json.load(f)\n",
    "\n",
    "n_experiments = [\"experiment1\", \"experiment2\", \"experiment3\", \"experiment4\"]\n",
    "\n",
    "experiment_data_df1 = pd.DataFrame(experiments_data_dict[n_experiments[0]])\n",
    "experiment_data_df1"
   ],
   "metadata": {
    "collapsed": false,
    "pycharm": {
     "name": "#%%\n"
    }
   }
  },
  {
   "cell_type": "code",
   "execution_count": null,
   "outputs": [],
   "source": [
    "experiment_data_df2 = pd.DataFrame(experiments_data_dict[n_experiments[1]])\n",
    "experiment_data_df2"
   ],
   "metadata": {
    "collapsed": false,
    "pycharm": {
     "name": "#%%\n"
    }
   }
  },
  {
   "cell_type": "code",
   "execution_count": null,
   "outputs": [],
   "source": [
    "experiment_data_df3 = pd.DataFrame(experiments_data_dict[n_experiments[2]])\n",
    "experiment_data_df3"
   ],
   "metadata": {
    "collapsed": false,
    "pycharm": {
     "name": "#%%\n"
    }
   }
  },
  {
   "cell_type": "code",
   "execution_count": null,
   "outputs": [],
   "source": [
    "experiment_data_df4 = pd.DataFrame(experiments_data_dict[n_experiments[3]])\n",
    "experiment_data_df4"
   ],
   "metadata": {
    "collapsed": false,
    "pycharm": {
     "name": "#%%\n"
    }
   }
  },
  {
   "cell_type": "markdown",
   "source": [
    "## Графіки порівняння часу виконання кожного алгоритму для кожного експерименту"
   ],
   "metadata": {
    "collapsed": false,
    "pycharm": {
     "name": "#%% md\n"
    }
   }
  },
  {
   "cell_type": "code",
   "execution_count": null,
   "outputs": [],
   "source": [
    "x = [math.log2(i) for i in experiments_data_dict[\"experiment1\"][\"selection_sort\"][\"array_size\"]]\n",
    "\n",
    "fig_experiment1 = go.Figure()\n",
    "fig_experiment2 = go.Figure()\n",
    "fig_experiment3 = go.Figure()\n",
    "fig_experiment4 = go.Figure()\n",
    "figs = [\n",
    "    fig_experiment1,\n",
    "    fig_experiment2,\n",
    "    fig_experiment3,\n",
    "    fig_experiment4\n",
    "]\n",
    "\n",
    "experiment_names = [\"випадковим чином згенерований масив\", \"значення масиву відсортовані у порядку зростання\",\n",
    "                    \"начення масиву відсортовані у порядку зменшення\", \"масив містить лише елементи з множини {1, 2, 3}\"]\n",
    "\n",
    "for i, n_experiment in enumerate(n_experiments):\n",
    "    fig = figs[i]\n",
    "    for algo_name in experiments_data_dict[n_experiment].keys():\n",
    "        fig.add_trace(go.Scatter(\n",
    "            x=x,\n",
    "            y=[math.log2(i) for i in experiments_data_dict[n_experiment][algo_name][\"algorithm_time\"]],\n",
    "            name = algo_name, # Style name/legend entry with html tags\n",
    "            connectgaps=True # override default to connect the gaps\n",
    "        ))\n",
    "\n",
    "    fig.update_layout(\n",
    "            title_text=\"Експеримент {}: {}\".format(i + 1, experiment_names[i]),\n",
    "            autosize=False,\n",
    "            width=800,\n",
    "            height=600,\n",
    "            yaxis = dict(\n",
    "                    title='Час виконання, log2',\n",
    "                    titlefont_size=16,\n",
    "                    ticktext = ['One', 'Three', 'Five', 'Seven', 'Nine', 'Eleven'],\n",
    "                    tickfont_size=14),\n",
    "            xaxis = dict(\n",
    "                    title='Розмір масиву, log2',\n",
    "                    titlefont_size=16,\n",
    "                    tickfont_size=14)\n",
    "        )\n",
    "\n",
    "    fig.show()"
   ],
   "metadata": {
    "collapsed": false,
    "pycharm": {
     "name": "#%%\n"
    }
   }
  },
  {
   "cell_type": "markdown",
   "source": [
    "## Графіки кількості порівнянь елементів масиву для кожного алгоритму для кожного експерименту"
   ],
   "metadata": {
    "collapsed": false
   }
  },
  {
   "cell_type": "code",
   "execution_count": null,
   "outputs": [],
   "source": [
    "fig_experiment1_2 = go.Figure()\n",
    "fig_experiment2_2 = go.Figure()\n",
    "fig_experiment3_2 = go.Figure()\n",
    "fig_experiment4_2 = go.Figure()\n",
    "figs = [\n",
    "    fig_experiment1_2,\n",
    "    fig_experiment2_2,\n",
    "    fig_experiment3_2,\n",
    "    fig_experiment4_2\n",
    "]\n",
    "\n",
    "for i, n_experiment in enumerate(n_experiments):\n",
    "    fig = figs[i]\n",
    "    for algo_name in experiments_data_dict[n_experiment].keys():\n",
    "        fig.add_trace(go.Scatter(\n",
    "            x=x,\n",
    "            y=[math.log2(i) for i in experiments_data_dict[n_experiment][algo_name][\"algorithm_if_operations\"]],\n",
    "            name = algo_name, # Style name/legend entry with html tags\n",
    "            connectgaps=True # override default to connect the gaps\n",
    "        ))\n",
    "\n",
    "    fig.update_layout(\n",
    "            title_text=\"Експеримент {}: {}\".format(i + 1, experiment_names[i]),\n",
    "            autosize=False,\n",
    "            width=800,\n",
    "            height=600,\n",
    "            yaxis = dict(\n",
    "                    title='Кількість порівнянь, log2',\n",
    "                    titlefont_size=16,\n",
    "                    tickfont_size=14),\n",
    "            xaxis = dict(\n",
    "                    title='Розмір масиву, log2',\n",
    "                    titlefont_size=16,\n",
    "                    tickfont_size=14)\n",
    "        )\n",
    "\n",
    "    fig.show()\n"
   ],
   "metadata": {
    "collapsed": false,
    "pycharm": {
     "name": "#%%\n"
    }
   }
  },
  {
   "cell_type": "code",
   "execution_count": 21,
   "outputs": [],
   "source": [],
   "metadata": {
    "collapsed": false,
    "pycharm": {
     "name": "#%%\n"
    }
   }
  }
 ],
 "metadata": {
  "kernelspec": {
   "display_name": "Python 3",
   "language": "python",
   "name": "python3"
  },
  "language_info": {
   "codemirror_mode": {
    "name": "ipython",
    "version": 2
   },
   "file_extension": ".py",
   "mimetype": "text/x-python",
   "name": "python",
   "nbconvert_exporter": "python",
   "pygments_lexer": "ipython2",
   "version": "2.7.6"
  }
 },
 "nbformat": 4,
 "nbformat_minor": 0
}